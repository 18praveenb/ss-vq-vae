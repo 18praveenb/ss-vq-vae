{
 "cells": [
  {
   "cell_type": "markdown",
   "metadata": {},
   "source": [
    "# Lakh MIDI Dataset pre-processing\n",
    "\n",
    "This notebook converts the [Lakh MIDI Dataset](https://colinraffel.com/projects/lmd/) (LMD) to Magenta `NoteSequence` protocol buffers. `INPUT_DIR` is expected to point to the [`lmd_full`](http://hog.ee.columbia.edu/craffel/lmd/lmd_full.tar.gz) directory.\n",
    "\n",
    "Copyright 2020 InterDigital R&D and Télécom Paris.  \n",
    "Author: Ondřej Cífka"
   ]
  },
  {
   "cell_type": "code",
   "execution_count": 1,
   "metadata": {},
   "outputs": [],
   "source": [
    "import concurrent.futures as cf\n",
    "import os\n",
    "import pickle\n",
    "import sys\n",
    "import datetime\n",
    "import warnings\n",
    "\n",
    "import note_seq\n",
    "import pretty_midi\n",
    "from tqdm.auto import tqdm"
   ]
  },
  {
   "cell_type": "code",
   "execution_count": 2,
   "metadata": {},
   "outputs": [],
   "source": [
    "INPUT_DIR = '../lmd_full/'\n",
    "OUTPUT_DIR = 'data'\n",
    "TOTAL_FILES = 178561"
   ]
  },
  {
   "cell_type": "code",
   "execution_count": 3,
   "metadata": {},
   "outputs": [],
   "source": [
    "# Decrease MAX_TICK value to avoid running out of RAM. Long files will be skipped\n",
    "pretty_midi.pretty_midi.MAX_TICK = 1e6"
   ]
  },
  {
   "cell_type": "code",
   "execution_count": 4,
   "metadata": {},
   "outputs": [],
   "source": [
    "def get_paths():\n",
    "    for dirpath, _, filenames in os.walk(INPUT_DIR):\n",
    "        for filename in filenames:\n",
    "            yield os.path.join(dirpath, filename)"
   ]
  },
  {
   "cell_type": "code",
   "execution_count": 5,
   "metadata": {},
   "outputs": [],
   "source": [
    "def process_file(path):\n",
    "    if os.stat(path).st_size > 100000:\n",
    "        return None, 0\n",
    "\n",
    "    try:\n",
    "        with warnings.catch_warnings():\n",
    "            warnings.filterwarnings('ignore', r'Tempo, Key or Time signature change events found on non-zero tracks')\n",
    "            ns = note_seq.midi_io.midi_file_to_note_sequence(path)\n",
    "    except note_seq.midi_io.MIDIConversionError:\n",
    "        return None, 0\n",
    "    out_path = os.path.splitext(path)[0] + f'.pickle'\n",
    "    out_path = os.path.join(OUTPUT_DIR, os.path.relpath(out_path, INPUT_DIR))\n",
    "    os.makedirs(os.path.dirname(out_path), exist_ok=True)\n",
    "    with open(out_path, 'wb') as f:\n",
    "        pickle.dump(ns, f)\n",
    "    return out_path, ns.total_time"
   ]
  },
  {
   "cell_type": "code",
   "execution_count": 6,
   "metadata": {
    "scrolled": true
   },
   "outputs": [
    {
     "data": {
      "application/vnd.jupyter.widget-view+json": {
       "model_id": "6872df8093f8497cae8741beaef1dcaa",
       "version_major": 2,
       "version_minor": 0
      },
      "text/plain": [
       "HBox(children=(FloatProgress(value=0.0, description='collect', max=178561.0, style=ProgressStyle(description_w…"
      ]
     },
     "metadata": {},
     "output_type": "display_data"
    },
    {
     "name": "stdout",
     "output_type": "stream",
     "text": [
      "\n"
     ]
    },
    {
     "data": {
      "application/vnd.jupyter.widget-view+json": {
       "model_id": "5a2543e140a04b4c9039ca59c626a004",
       "version_major": 2,
       "version_minor": 0
      },
      "text/plain": [
       "HBox(children=(FloatProgress(value=0.0, description='convert', max=178561.0, style=ProgressStyle(description_w…"
      ]
     },
     "metadata": {},
     "output_type": "display_data"
    },
    {
     "name": "stdout",
     "output_type": "stream",
     "text": [
      "\n",
      "169556 / 178561 files converted successfully\n",
      "Total time: 362 days, 3:02:38.526111\n"
     ]
    }
   ],
   "source": [
    "os.makedirs(OUTPUT_DIR)\n",
    "with cf.ProcessPoolExecutor(20) as pool:\n",
    "    results = list(tqdm(\n",
    "        pool.map(process_file, tqdm(get_paths(), desc='collect', total=TOTAL_FILES), chunksize=100),\n",
    "        desc='convert', total=TOTAL_FILES))\n",
    "\n",
    "print(sum(1 for p, _ in results if p is not None), '/', len(results), 'files converted successfully')\n",
    "print('Total time:', datetime.timedelta(seconds=sum(t for _, t in results)))"
   ]
  }
 ],
 "metadata": {
  "kernelspec": {
   "display_name": "Python 3",
   "language": "python",
   "name": "python3"
  },
  "language_info": {
   "codemirror_mode": {
    "name": "ipython",
    "version": 3
   },
   "file_extension": ".py",
   "mimetype": "text/x-python",
   "name": "python",
   "nbconvert_exporter": "python",
   "pygments_lexer": "ipython3",
   "version": "3.7.6"
  }
 },
 "nbformat": 4,
 "nbformat_minor": 4
}
